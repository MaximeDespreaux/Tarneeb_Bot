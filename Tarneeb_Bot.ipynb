{
 "cells": [
  {
   "cell_type": "markdown",
   "id": "88d10597",
   "metadata": {},
   "source": [
    "<a style=\"font-size: 3em; text-align: center; vertical-align: middle;\" href=\"https://github.com/MaximeDespreaux/Tarneeb_Bot\">Machine Learning Project</a>\n"
   ]
  },
  {
   "cell_type": "code",
   "execution_count": 5,
   "id": "b0a49422",
   "metadata": {},
   "outputs": [
    {
     "ename": "SyntaxError",
     "evalue": "invalid syntax (2138595428.py, line 1)",
     "output_type": "error",
     "traceback": [
      "\u001b[1;36m  Cell \u001b[1;32mIn[5], line 1\u001b[1;36m\u001b[0m\n\u001b[1;33m    <a style=\"font-size: 3em;\">Tarneeb Bot</a>\u001b[0m\n\u001b[1;37m    ^\u001b[0m\n\u001b[1;31mSyntaxError\u001b[0m\u001b[1;31m:\u001b[0m invalid syntax\n"
     ]
    }
   ],
   "source": [
    "<a style=\"font-size: 3em;\">Tarneeb Bot</a>\n",
    "\n",
    "Panainte Raluca - Barolin Aleksandr - Despréaux Maxime"
   ]
  },
  {
   "cell_type": "markdown",
   "id": "bccc174c",
   "metadata": {},
   "source": [
    "We start by creating and simulating a game where we deal the cards according to the rule set. Then, we do math to figure out the probability of each card thats not in the bot's hand. After, we create a move selection that checks the best move to play from hand (score tbd depending on existing probas of the cards, like in a situation where first round on hearts, theres high odds of ace winning, so king isn't great, unless your partner has ace, then u can do king then ace.) \n",
    "So each card in the bots hand has a score of how good it is, we can use activation functions to determine best moves. "
   ]
  },
  {
   "cell_type": "code",
   "execution_count": null,
   "id": "40de69f5",
   "metadata": {},
   "outputs": [],
   "source": [
    "%matplotlib inline\n",
    "\n",
    "import numpy as np\n",
    "import pandas as pd\n",
    "import matplotlib.pyplot as plt\n",
    "import matplotlib.colors as colors\n",
    "from mpl_toolkits.mplot3d import axes3d\n",
    "\n",
    "import sklearn\n",
    "import sklearn.linear_model\n",
    "import sklearn.pipeline\n",
    "import sklearn.preprocessing"
   ]
  },
  {
   "cell_type": "code",
   "execution_count": null,
   "id": "34116f5b",
   "metadata": {},
   "outputs": [],
   "source": [
    "class Player:\n",
    "    \n",
    "    def __init__(self, n): #input integer for P1, P2 ...\n",
    "        self.number = n\n",
    "        self.hand = np.empty((13,4))\n",
    "        \n",
    "    def play(card): #input card as (value from 1 to 13, symbol from 1 to 4) the row and column of the card\n",
    "        "
   ]
  },
  {
   "cell_type": "code",
   "execution_count": null,
   "id": "5f9991ef",
   "metadata": {},
   "outputs": [],
   "source": [
    "class Tarneeb:\n",
    "    \n",
    "    def __init__(self):\n",
    "        self.P1, self.P2, self.P3, self.P4 = Player(1), Player(2), Player(3), Player(4)\n",
    "        print(\"Call run to play 1 round\")\n",
    "        print(\"Call deal to deal the cards\")\n",
    "        \n",
    "    def run(self, )"
   ]
  }
 ],
 "metadata": {
  "kernelspec": {
   "display_name": "Python 3 (ipykernel)",
   "language": "python",
   "name": "python3"
  },
  "language_info": {
   "codemirror_mode": {
    "name": "ipython",
    "version": 3
   },
   "file_extension": ".py",
   "mimetype": "text/x-python",
   "name": "python",
   "nbconvert_exporter": "python",
   "pygments_lexer": "ipython3",
   "version": "3.11.5"
  }
 },
 "nbformat": 4,
 "nbformat_minor": 5
}
